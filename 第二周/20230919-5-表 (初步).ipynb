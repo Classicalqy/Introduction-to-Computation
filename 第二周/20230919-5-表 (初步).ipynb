{
 "cells": [
  {
   "cell_type": "markdown",
   "id": "e64136d3",
   "metadata": {},
   "source": [
    "**<font color=red>Examples：表 (list) 简介及其基本操作</font>**"
   ]
  },
  {
   "cell_type": "markdown",
   "id": "6662b8e2",
   "metadata": {},
   "source": [
    "**<font color = blue>表列举式 (display) 建立表对象</font>**  \n",
    "> - 语法：[表达式, ...]\n",
    "> - 表元素可以写任意表达式，建立表时以表达式的值作为表元素\n",
    "> - 没有元素的表称为空表，用 [ ] 表示"
   ]
  },
  {
   "cell_type": "code",
   "execution_count": null,
   "id": "673999c5",
   "metadata": {},
   "outputs": [],
   "source": [
    "[1, 2, 3]     ## 三元整数表"
   ]
  },
  {
   "cell_type": "code",
   "execution_count": null,
   "id": "5501a24e",
   "metadata": {},
   "outputs": [],
   "source": [
    "[1, 'math', 90.5]  ## 表中各元素类型的可以不同 "
   ]
  },
  {
   "cell_type": "code",
   "execution_count": null,
   "id": "f6ab75fe",
   "metadata": {},
   "outputs": [],
   "source": [
    "x, y, z = 1, 2, 3\n",
    "[x + 1, y**2 - 2, z]  ## 表中元素可以写任意表达式"
   ]
  },
  {
   "cell_type": "markdown",
   "id": "bf20daef",
   "metadata": {},
   "source": [
    "**<font color = blue>表元素的取值和赋值</font>**\n",
    "> - 表元素用下标表达式描述\n",
    "> - 合法的元素下标：0 ~ len(lst)-1 或 -len(lst) ~ -1\n",
    "> - 表对象是可变对象，其中的元素以及表的结构可以被修改 (c.f. 字符串对象)"
   ]
  },
  {
   "cell_type": "code",
   "execution_count": null,
   "id": "bc80958d",
   "metadata": {},
   "outputs": [],
   "source": [
    "lst = [1, 'math', 90.5]  ## 一个表对象是一个整体，可作为变量的值\n",
    "print(lst[-1])           ## 用下标表达式取表元素值"
   ]
  },
  {
   "cell_type": "code",
   "execution_count": null,
   "id": "e53745e7",
   "metadata": {},
   "outputs": [],
   "source": [
    "lst[2] = 'chem' ## 也可给修改表元素的值 (表元素的赋值)\n",
    "print(lst)      ## 一个表对象是一个整体，可作为函数调用时的实参"
   ]
  },
  {
   "cell_type": "code",
   "execution_count": null,
   "id": "2de850e6",
   "metadata": {},
   "outputs": [],
   "source": [
    "from math import sin, cos, tan\n",
    "print([sin(1.0), cos(1.0), tan(1.0)])"
   ]
  },
  {
   "cell_type": "markdown",
   "id": "66bbc963",
   "metadata": {},
   "source": [
    "**<font color = blue>描述下标的表达式中可以包含变量</font>**\n",
    "> - NOTE：平行赋值的特殊情况"
   ]
  },
  {
   "cell_type": "code",
   "execution_count": null,
   "id": "1a52f32e",
   "metadata": {},
   "outputs": [],
   "source": [
    "i, lst = 0, [0, 1]\n",
    "i, lst[i] = 1, 2\n",
    "print(lst)"
   ]
  }
 ],
 "metadata": {
  "kernelspec": {
   "display_name": "Python 3 (ipykernel)",
   "language": "python",
   "name": "python3"
  },
  "language_info": {
   "codemirror_mode": {
    "name": "ipython",
    "version": 3
   },
   "file_extension": ".py",
   "mimetype": "text/x-python",
   "name": "python",
   "nbconvert_exporter": "python",
   "pygments_lexer": "ipython3",
   "version": "3.11.4"
  }
 },
 "nbformat": 4,
 "nbformat_minor": 5
}
